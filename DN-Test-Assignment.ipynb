{
 "cells": [
  {
   "cell_type": "code",
   "execution_count": 1,
   "id": "8651bbc6-16c9-4441-a8d3-b615821c3f00",
   "metadata": {},
   "outputs": [],
   "source": [
    "# docker run -it -p 8888:8888 jupyter/all-spark-notebook"
   ]
  },
  {
   "cell_type": "code",
   "execution_count": 6,
   "id": "249a4a78-e33a-4456-a73d-a3f86086935d",
   "metadata": {},
   "outputs": [],
   "source": [
    "# !pip install delta-spark\n",
    "\n",
    "from delta import *\n",
    "\n",
    "from pyspark.sql import SparkSession\n",
    "from pyspark.sql.functions import *\n",
    "from pyspark.sql.types import *\n",
    "from pyspark.sql.types import _parse_datatype_json_string\n",
    "\n",
    "from pyspark.sql.column import Column, _to_java_column\n",
    "from pyspark.sql.types import StructType\n",
    "from pyspark.sql.utils import *\n",
    "import pyspark.sql.functions as F\n",
    "\n",
    "import os\n",
    "import urllib.request"
   ]
  },
  {
   "cell_type": "markdown",
   "id": "aacf709d-22df-45d1-b909-559401455d72",
   "metadata": {},
   "source": [
    "## Jar files for XML"
   ]
  },
  {
   "cell_type": "code",
   "execution_count": 15,
   "id": "bfabcd1d-070e-4fb5-8835-a03eb6c790a3",
   "metadata": {},
   "outputs": [
    {
     "data": {
      "text/plain": [
       "('jars/spark-xml_2.12-0.16.0.jar', <http.client.HTTPMessage at 0x7f81941bdd90>)"
      ]
     },
     "execution_count": 15,
     "metadata": {},
     "output_type": "execute_result"
    }
   ],
   "source": [
    "url = \"https://repo1.maven.org/maven2/com/databricks/spark-xml_2.12/0.16.0/spark-xml_2.12-0.16.0.jar\"\n",
    "# destination = \"/home/jovyan/.ivy2/jars/spark-xml_2.12-0.16.0.jar\"\n",
    "destination = \"jars/spark-xml_2.12-0.16.0.jar\"\n",
    "\n",
    "urllib.request.urlretrieve(url, destination)"
   ]
  },
  {
   "cell_type": "code",
   "execution_count": 16,
   "id": "13b2763c-53d9-43ee-8bb2-518e7670a0a5",
   "metadata": {},
   "outputs": [],
   "source": [
    "ticket_fees = [{'type':'base', 'value':30},\n",
    "               {'type':'base + school zone','value': 60},\n",
    "               {'type':'base + construction work zone','value':60},\n",
    "               {'type':'base + school zone + construction work zone', 'value':120}]\n",
    "\n",
    "keywords = ['automobiles', 'people', 'speeding_tickets']\n",
    "\n",
    "path = './work/ttpd_data'\n",
    "all_files = [os.path.join(path, f) for f in os.listdir(path) if os.path.isfile(os.path.join(path, f))]\n",
    "# all_files"
   ]
  },
  {
   "cell_type": "markdown",
   "id": "d947fac7-2deb-40b8-9abc-cd4a9b36eafb",
   "metadata": {},
   "source": [
    "# Functions"
   ]
  },
  {
   "cell_type": "code",
   "execution_count": 17,
   "id": "06b509b1-49fd-403e-b14e-f7a3ef5f2567",
   "metadata": {},
   "outputs": [],
   "source": [
    "# XML is not included in the Python release it seems, only Scala\n",
    "# https://github.com/databricks/spark-xml\n",
    "# https://stackoverflow.com/questions/64934508/parsing-xml-columns-from-pyspark-dataframe-using-udf\n",
    "def ext_from_xml(xml_column, schema, options={}):\n",
    "    java_column = _to_java_column(xml_column.cast('string'))\n",
    "    java_schema = spark._jsparkSession.parseDataType(schema.json())\n",
    "    scala_map = spark._jvm.org.apache.spark.api.python.PythonUtils.toScalaMap(options)\n",
    "    jc = spark._jvm.com.databricks.spark.xml.functions.from_xml(java_column, java_schema, scala_map)\n",
    "    return Column(jc)\n",
    "\n",
    "def ext_schema_of_xml_df(df, options={}):\n",
    "    assert len(df.columns) == 1\n",
    "\n",
    "    scala_options = spark._jvm.PythonUtils.toScalaMap(options)\n",
    "    java_xml_module = getattr(getattr(spark._jvm.com.databricks.spark.xml, \"package$\"), \"MODULE$\")\n",
    "    # print(java_xml_module)\n",
    "    java_schema = java_xml_module.schema_of_xml_df(df._jdf, scala_options)\n",
    "    # print(java_schema)\n",
    "    \n",
    "    return _parse_datatype_json_string(java_schema.json())"
   ]
  },
  {
   "cell_type": "code",
   "execution_count": 18,
   "id": "02b1b235-62f2-4218-9d8d-96892b24d3be",
   "metadata": {},
   "outputs": [],
   "source": [
    "def __get_spark_session__() -> SparkSession:\n",
    "    builder = SparkSession \\\n",
    "        .builder \\\n",
    "        .appName('takehome') \\\n",
    "        .config(\"spark.jars\", destination) \\\n",
    "        .config(\"spark.sql.extensions\", \"io.delta.sql.DeltaSparkSessionExtension\") \\\n",
    "        .config(\"spark.sql.catalog.spark_catalog\", \"org.apache.spark.sql.delta.catalog.DeltaCatalog\") \\\n",
    "        \n",
    "    \n",
    "    return configure_spark_with_delta_pip(builder).getOrCreate()\n",
    "\n",
    "\n",
    "def __read_file__(spark, file_path):\n",
    "    \n",
    "    if file_path.endswith('.xml'):\n",
    "        # print(f'Reading XML file {file_path}')\n",
    "        \n",
    "        df = spark.read.format(\"binaryFile\").load(file_path).selectExpr(\"CAST(content AS STRING)\")\n",
    "        xml_extraction_options = {\"mode\": \"DROPMALFORMED\",\"inferSchema\":\"true\"}\n",
    "        xml_schema = ext_schema_of_xml_df(df.select(\"content\"), xml_extraction_options)\n",
    "        # print(xml_schema)\n",
    "        df_parsed = df.withColumn(\"parsed\", ext_from_xml(F.col(\"content\"), xml_schema))\n",
    "        # df_parsed.show()\n",
    "        df2 = df_parsed.select(*df_parsed.columns[:-1],F.explode(F.col('parsed').getItem('automobile')))\n",
    "        # df2.show()\n",
    "        new_col_names = [s.split(':')[0] for s in xml_schema['automobile'].simpleString().split('<')[-1].strip('>>').split(',')]\n",
    "        # print(new_col_names)\n",
    "        for c in new_col_names:\n",
    "            df2 = df2.withColumn(c, F.col('col').getItem(c))\n",
    "        df2 = df2.drop('col','_VALUE')\n",
    "\n",
    "        return df2\n",
    "\n",
    "    elif file_path.endswith('.json'):\n",
    "        # print(f'Reading JSON file {file_path}')\n",
    "        df = spark.read.json(file_path)\n",
    "        if 'speeding_tickets' in df.columns:\n",
    "            df = df.select(explode(col('speeding_tickets')).alias('ticket')).select('ticket.*')\n",
    "        return df\n",
    "        \n",
    "    elif file_path.endswith('.csv'):\n",
    "        # print(f'Reading CSV file {file_path}')\n",
    "        return spark.read.csv(file_path, header=True, inferSchema=True,sep='|')\n",
    "    else:\n",
    "        return None\n",
    "\n",
    "\n",
    "def __combine_files__(spark, keyword):\n",
    "    filtered_files = [f for f in all_files if keyword in f]\n",
    "    if not filtered_files:\n",
    "        return None\n",
    "\n",
    "    dataframes = [__read_file__(spark, f) for f in filtered_files if __read_file__(spark, f) is not None]\n",
    "    if not dataframes:\n",
    "        return None\n",
    "\n",
    "    combined_df = dataframes[0]\n",
    "    for df in dataframes[1:]:\n",
    "        combined_df = combined_df.union(df)\n",
    "    return combined_df\n",
    "\n",
    "\n",
    "def main():\n",
    "    spark = __get_spark_session__()\n",
    "    print(f'Spark Session Initialized...')\n",
    "\n",
    "    combined_dfs = {keyword: __combine_files__(spark, keyword) for keyword in keywords}\n",
    "\n",
    "    for keyword, df in combined_dfs.items():\n",
    "        if df is not None:\n",
    "            print(f\"Combined DataFrame for {keyword}:\")\n",
    "            df.show()\n",
    "        else:\n",
    "            print(f\"No files found for keyword: {keyword}\")\n",
    "    return combined_dfs"
   ]
  },
  {
   "cell_type": "markdown",
   "id": "337f7d03-c83d-4a4e-9ecb-e36d39ea77b4",
   "metadata": {},
   "source": [
    "# Data Ingestion"
   ]
  },
  {
   "cell_type": "code",
   "execution_count": 19,
   "id": "eed7c7fb-4bbb-4413-b196-44497f42ea3d",
   "metadata": {},
   "outputs": [
    {
     "name": "stdout",
     "output_type": "stream",
     "text": [
      "Spark Session Initialized...\n",
      "Combined DataFrame for automobiles:\n",
      "+--------------------+-------------+-------------+--------------------+-----------------+----+\n",
      "|             content|        color|license_plate|           person_id|              vin|year|\n",
      "+--------------------+-------------+-------------+--------------------+-----------------+----+\n",
      "|<?xml version=\"1....|   SandyBrown|      QFF 087|dfa9aed5-7172-4e9...|CL6TK95K73FE5SHXT|1982|\n",
      "|<?xml version=\"1....|LavenderBlush|        3Q380|ba743372-658b-48c...|WPCAK8EK7EH8VW3YS|2023|\n",
      "|<?xml version=\"1....|  ForestGreen|      CLT 179|ba743372-658b-48c...|EJ90XVM508JD3FUDV|2019|\n",
      "|<?xml version=\"1....|         Snow|      38R E99|ba743372-658b-48c...|ECBGKDYM89G9HBGER|1980|\n",
      "|<?xml version=\"1....|       Purple|     62-13425|829a6ec5-6bc2-4ee...|AD075YPR3LNRSYDPH|1977|\n",
      "|<?xml version=\"1....|    LawnGreen|      467-IHF|56b147ea-8c68-494...|PDD6NEU28YM141FAX|2009|\n",
      "|<?xml version=\"1....|       Yellow|        0DM43|56b147ea-8c68-494...|1Z9CHB950NRMRH0FP|2015|\n",
      "|<?xml version=\"1....|    IndianRed|      530 PZ3|1ca5bb75-e0fa-469...|UD3LFW5910KZ27NDK|2005|\n",
      "|<?xml version=\"1....|         Navy|      01H B11|1ca5bb75-e0fa-469...|EXPK41Y0X48PE1MTE|1994|\n",
      "|<?xml version=\"1....|      HotPink|      874 POJ|145eede5-4557-499...|2XBVKRJ816KHTM6U0|2004|\n",
      "|<?xml version=\"1....|        Green|      93M•184|fe96414e-7884-4e0...|1G06RVMT5Z9L0CLLS|2021|\n",
      "|<?xml version=\"1....|        Azure|      51V 132|fe96414e-7884-4e0...|MU96X28Z372ZGJDR2|2000|\n",
      "|<?xml version=\"1....|       Silver|      81R I98|df453340-70e0-472...|K6AYGHP59AUU7X7XW|1989|\n",
      "|<?xml version=\"1....|     HoneyDew|     3-46983O|df453340-70e0-472...|DMRXYDLN6SBYJRETH|1990|\n",
      "|<?xml version=\"1....|    RosyBrown|      8AV E46|531c4ad7-4ac0-447...|R9FB5RYK4M3E9PHVK|2013|\n",
      "|<?xml version=\"1....|         Pink|      35W W33|531c4ad7-4ac0-447...|6SSB3GZGXX3F573AX|2012|\n",
      "|<?xml version=\"1....|         Peru|     658 8898|99857665-6f79-4a0...|111N48SU8J8E4DPTU|2022|\n",
      "|<?xml version=\"1....|    AliceBlue|      JAB 872|4e58753b-6ef8-422...|L3706ZMP20FBR3EV8|2018|\n",
      "|<?xml version=\"1....|    Turquoise|    0V 8U8IJO|4e58753b-6ef8-422...|2N2EY5JR2E62EUEC9|2022|\n",
      "|<?xml version=\"1....|    RoyalBlue|      347-ZRJ|a746fe5c-cb92-464...|8UCB48VG7N6ERGRC0|1985|\n",
      "+--------------------+-------------+-------------+--------------------+-----------------+----+\n",
      "only showing top 20 rows\n",
      "\n",
      "Combined DataFrame for people:\n",
      "+--------------------+-----------+---------+---+--------------------+--------------------+--------------------+--------------------+-------------+\n",
      "|                  id| first_name|last_name|sex|             address|        phone_number|          profession|             company|date_of_birth|\n",
      "+--------------------+-----------+---------+---+--------------------+--------------------+--------------------+--------------------+-------------+\n",
      "|8c19a09f-a379-479...|    Kaitlyn|   Rhodes|  F|509 Jones Cliffs ...|        590.438.9927| Call centre manager|       Smith-English|   1932-07-03|\n",
      "|3a1e4fde-791b-4c0...|    Jeffrey|Hernandez|  M|    373 Quinn Divide|  (536)884-4431x3532|Primary school te...|    Thomas-Henderson|   2004-05-09|\n",
      "|021757c7-63e7-42b...|        Ann|    Gates|  F| 656 Tiffany Gateway|    309.785.1231x169|Teacher, English ...|Robinson, Shea an...|   1944-08-14|\n",
      "|48d1209c-8e2e-48f...|     Edward|  Roberts|  M|926 Jonathan Stra...|  (866)979-1927x6566| Broadcast presenter|       Fisher-Santos|   1977-12-14|\n",
      "|496c7f0b-7cdc-407...|  Katherine|    Smith|  F|  760 Jennifer Track|     +1-934-351-3552|Sports administrator|       Noble-Morales|   1949-05-19|\n",
      "|a6e461f2-72d5-4ee...|      James| Robinson|  M|609 Thomas Wall S...|+1-998-602-3157x1523|Private music tea...|        Rice-Barrett|   2000-09-02|\n",
      "|044ceee3-2308-48f...|    Matthew|    Terry|  M|   857 Nelson Estate|     +1-312-530-8603| Clinical biochemist|          Hall-Chang|   1915-08-16|\n",
      "|3673f3fb-39a9-45a...|    Jessica|    Allen|  F|   845 Colleen Mount|   (353)561-8589x511|Nature conservati...|         Perry Group|   1992-07-07|\n",
      "|e87401aa-8297-46d...|        Joy|Rodriguez|  F| 969 Tiffany Gateway|001-745-753-2070x...|       Archaeologist|            Diaz LLC|   1988-03-21|\n",
      "|391353d3-7cdd-475...|      Tammy|    Boone|  F|350 Barry Shoal S...|   788.960.4540x3165|        Sports coach|        Boyd-Fleming|   1971-08-22|\n",
      "|4804c651-f8ff-418...|    Kaitlin|    Simon|  F|564 Tim Avenue Ap...|001-636-678-7848x...|Administrator, ed...|Smith, Leon and Mayo|   1991-12-08|\n",
      "|699e26c9-076d-457...|      David|   Zuniga|  M|     537 Lewis Trace|001-285-409-0657x423|Armed forces oper...|           Brown Ltd|   1926-08-09|\n",
      "|d8e619d6-184a-4fa...|       Lisa|  Patrick|  F|327 Alexis Run Su...|  428.785.9080x30566|       Hotel manager|Richmond, Fleming...|   2013-04-28|\n",
      "|9b81819d-b000-4bb...|      Becky|    Clark|  F|     225 Amber Wells|    001-492-660-7338|       Herpetologist|         Johnson Ltd|   1923-07-11|\n",
      "|0d9dff7c-7f3f-4d7...|    Richard| Gonzalez|  M|  806 Shepard Bridge|          9167448226|Editor, magazine ...|            Hunt LLC|   1972-11-27|\n",
      "|2aff2940-09ce-4f2...|Christopher|   Martin|  M|922 Monica Burgs ...| (643)733-2887x88197|      Pharmacologist|        Calderon Inc|   1982-10-28|\n",
      "|e8bd9646-1f91-4f8...|   Victoria|   Hooper|  F|265 Wyatt Pike Su...|  947-888-1961x12298|        Risk manager|      Leonard-Keller|   1951-06-14|\n",
      "|c88f689d-872e-46d...|      Chase|  Andrews|  M|       255 King Land|+1-861-490-1814x0...|Child psychothera...|     Dudley-Bradshaw|   2023-07-24|\n",
      "|d5a878e8-0621-4b4...|       John|Fernandez|  M|386 David Passage...|        805-979-3398|Careers informati...|          Barker Inc|   1936-07-02|\n",
      "|d11979f5-db5f-456...|  Catherine|    Mejia|  F|      87 Hanson Port|     +1-584-941-2275|        Metallurgist|   Martinez and Sons|   2018-07-23|\n",
      "+--------------------+-----------+---------+---+--------------------+--------------------+--------------------+--------------------+-------------+\n",
      "only showing top 20 rows\n",
      "\n",
      "Combined DataFrame for speeding_tickets:\n",
      "+--------------------+-------------+--------------------+-----------------------+---------------+-----------+-------------------+-------------+\n",
      "|                  id|license_plate|          officer_id|recorded_mph_over_limit|school_zone_ind|speed_limit|        ticket_time|work_zone_ind|\n",
      "+--------------------+-------------+--------------------+-----------------------+---------------+-----------+-------------------+-------------+\n",
      "|e937ade8-7e56-4b2...|      026 GIT|b304a890-64cf-44d...|                     11|          false|         15|2023-08-31 05:28:56|        false|\n",
      "|b7d80f56-6f96-480...|      VEF 900|e2155846-cecb-471...|                     13|          false|         55|2023-12-31 14:48:32|        false|\n",
      "|c681149c-c528-431...|      853-DFU|0e1f5d48-2bb1-45f...|                      8|          false|         60|2020-07-31 23:45:38|         true|\n",
      "|c6f028ab-6896-4af...|      QMN 377|6577761b-34db-457...|                     27|          false|         15|2023-01-31 04:35:20|        false|\n",
      "|f7d3d5aa-3839-4ba...|        69ML0|2cd8fc26-c03b-428...|                      9|          false|         55|2021-06-30 12:00:38|        false|\n",
      "|5cf119cc-ee3f-4f6...|      636 KNS|9e80fe90-cb7c-49a...|                     25|          false|         30|2023-03-31 04:47:38|         true|\n",
      "|f1fa3c4c-f594-43c...|    5K 3V5YYZ|51226066-9f3d-482...|                      8|          false|         40|2023-12-31 09:54:01|        false|\n",
      "|e9fa8e2e-9c67-464...|      XPU6743|89e6205d-154c-4d4...|                     19|           true|         55|2021-07-31 06:05:38|         true|\n",
      "|ce8ea78d-d38b-4eb...|      720 IO9|e2155846-cecb-471...|                     16|          false|         55|2023-01-31 18:04:11|        false|\n",
      "|605bd892-3543-40a...|      976 YDD|f6c8ecff-14c4-410...|                     10|          false|         40|2022-07-31 08:09:47|        false|\n",
      "|0bac5361-eaf4-423...|      JNZ-015|18b728bd-a3fe-47d...|                     17|          false|         40|2021-05-31 02:30:33|        false|\n",
      "|fd087e46-b1db-4ee...|      4350 TK|e9f10fd7-a9e4-43f...|                     16|           true|         15|2021-01-31 06:30:13|        false|\n",
      "|303c28ff-2cc4-4e6...|      84G O84|4089c844-4fdb-479...|                     24|           true|         30|2023-12-31 10:51:07|        false|\n",
      "|b223832d-b09e-45c...|      ZXB 484|9ca8f8d9-8101-434...|                     11|          false|         25|2021-09-30 16:02:17|        false|\n",
      "|961a53e0-104f-4a3...|      ZCK 097|baea06fd-fb25-424...|                      8|          false|         55|2022-02-28 21:17:30|         true|\n",
      "|7815fc1c-f0ce-4f6...|     ATL-7799|f6c8ecff-14c4-410...|                     26|          false|         65|2023-06-30 12:14:48|        false|\n",
      "|4fd606b9-d3f1-42d...|      2625 FV|d9a0f8ea-66b0-418...|                     10|           true|         40|2021-07-31 00:03:58|         true|\n",
      "|862be702-4956-4e0...|      8-2329X|fc97a956-e4e5-40c...|                     27|          false|         65|2022-12-31 07:30:36|         true|\n",
      "|3968d8e1-2364-430...|      082 YIN|8dd353b0-6fb9-4c7...|                     15|          false|         60|2021-07-31 21:25:31|         true|\n",
      "|baf65c41-3b13-4e3...|     72-9517Q|d9a0f8ea-66b0-418...|                     10|          false|         60|2021-09-30 16:51:33|         true|\n",
      "+--------------------+-------------+--------------------+-----------------------+---------------+-----------+-------------------+-------------+\n",
      "only showing top 20 rows\n",
      "\n"
     ]
    }
   ],
   "source": [
    "spark = __get_spark_session__() # not getting passed into UDFs correctly??\n",
    "dfs = main()"
   ]
  },
  {
   "cell_type": "markdown",
   "id": "d6332513-0354-4d84-a9fb-7066b9940efd",
   "metadata": {},
   "source": [
    "# EDA"
   ]
  },
  {
   "cell_type": "code",
   "execution_count": 20,
   "id": "34aa8487-17c5-4ed4-821c-93c0fa08f891",
   "metadata": {},
   "outputs": [
    {
     "name": "stdout",
     "output_type": "stream",
     "text": [
      "Ingested 16123 Speeding Ticket records\n",
      "Ingested 0 duplicate records\n",
      "Ingested 7123 People records\n",
      "Ingested 0 duplicate records\n",
      "Ingested 10299 Automobile records\n",
      "Ingested 0 duplicate records\n"
     ]
    }
   ],
   "source": [
    "st = dfs['speeding_tickets']\n",
    "dedup_st = st.dropDuplicates()\n",
    "print(f\"Ingested {st.count()} Speeding Ticket records\")\n",
    "print(f\"Ingested {st.count() - dedup_st.count()} duplicate records\")\n",
    "\n",
    "p = dfs['people']\n",
    "dedup_p = p.dropDuplicates()\n",
    "print(f\"Ingested {p.count()} People records\")\n",
    "print(f\"Ingested {p.count() - dedup_p.count()} duplicate records\")\n",
    "\n",
    "a = dfs['automobiles']\n",
    "dedup_a = a.dropDuplicates()\n",
    "print(f\"Ingested {a.count()} Automobile records\")\n",
    "print(f\"Ingested {a.count() - dedup_a.count()} duplicate records\")"
   ]
  },
  {
   "cell_type": "markdown",
   "id": "efe75322-53b4-4e82-af8c-1dd04084e820",
   "metadata": {},
   "source": [
    "## Label our ticket valuations"
   ]
  },
  {
   "cell_type": "code",
   "execution_count": 21,
   "id": "8b457bfe-691e-43b1-8721-d12d11e62b1d",
   "metadata": {},
   "outputs": [
    {
     "name": "stdout",
     "output_type": "stream",
     "text": [
      "+--------------------+-----+\n",
      "|                type|value|\n",
      "+--------------------+-----+\n",
      "|                base|   30|\n",
      "|  base + school zone|   60|\n",
      "|base + constructi...|   60|\n",
      "|base + school zon...|  120|\n",
      "+--------------------+-----+\n",
      "\n",
      "+--------------------+-------------+--------------------+-----------------------+---------------+-----------+-------------------+-------------+------------+-------------------+\n",
      "|                  id|license_plate|          officer_id|recorded_mph_over_limit|school_zone_ind|speed_limit|        ticket_time|work_zone_ind|ticket_value|clean_license_plate|\n",
      "+--------------------+-------------+--------------------+-----------------------+---------------+-----------+-------------------+-------------+------------+-------------------+\n",
      "|e937ade8-7e56-4b2...|      026 GIT|b304a890-64cf-44d...|                     11|          false|         15|2023-08-31 05:28:56|        false|          30|            026 GIT|\n",
      "|b7d80f56-6f96-480...|      VEF 900|e2155846-cecb-471...|                     13|          false|         55|2023-12-31 14:48:32|        false|          30|            VEF 900|\n",
      "|c681149c-c528-431...|      853-DFU|0e1f5d48-2bb1-45f...|                      8|          false|         60|2020-07-31 23:45:38|         true|          60|            853-DFU|\n",
      "|c6f028ab-6896-4af...|      QMN 377|6577761b-34db-457...|                     27|          false|         15|2023-01-31 04:35:20|        false|          30|            QMN 377|\n",
      "|f7d3d5aa-3839-4ba...|        69ML0|2cd8fc26-c03b-428...|                      9|          false|         55|2021-06-30 12:00:38|        false|          30|              69ML0|\n",
      "|5cf119cc-ee3f-4f6...|      636 KNS|9e80fe90-cb7c-49a...|                     25|          false|         30|2023-03-31 04:47:38|         true|          60|            636 KNS|\n",
      "|f1fa3c4c-f594-43c...|    5K 3V5YYZ|51226066-9f3d-482...|                      8|          false|         40|2023-12-31 09:54:01|        false|          30|          5K 3V5YYZ|\n",
      "|e9fa8e2e-9c67-464...|      XPU6743|89e6205d-154c-4d4...|                     19|           true|         55|2021-07-31 06:05:38|         true|         120|            XPU6743|\n",
      "|ce8ea78d-d38b-4eb...|      720 IO9|e2155846-cecb-471...|                     16|          false|         55|2023-01-31 18:04:11|        false|          30|            720 IO9|\n",
      "|605bd892-3543-40a...|      976 YDD|f6c8ecff-14c4-410...|                     10|          false|         40|2022-07-31 08:09:47|        false|          30|            976 YDD|\n",
      "|0bac5361-eaf4-423...|      JNZ-015|18b728bd-a3fe-47d...|                     17|          false|         40|2021-05-31 02:30:33|        false|          30|            JNZ-015|\n",
      "|fd087e46-b1db-4ee...|      4350 TK|e9f10fd7-a9e4-43f...|                     16|           true|         15|2021-01-31 06:30:13|        false|          60|            4350 TK|\n",
      "|303c28ff-2cc4-4e6...|      84G O84|4089c844-4fdb-479...|                     24|           true|         30|2023-12-31 10:51:07|        false|          60|            84G O84|\n",
      "|b223832d-b09e-45c...|      ZXB 484|9ca8f8d9-8101-434...|                     11|          false|         25|2021-09-30 16:02:17|        false|          30|            ZXB 484|\n",
      "|961a53e0-104f-4a3...|      ZCK 097|baea06fd-fb25-424...|                      8|          false|         55|2022-02-28 21:17:30|         true|          60|            ZCK 097|\n",
      "|7815fc1c-f0ce-4f6...|     ATL-7799|f6c8ecff-14c4-410...|                     26|          false|         65|2023-06-30 12:14:48|        false|          30|           ATL-7799|\n",
      "|4fd606b9-d3f1-42d...|      2625 FV|d9a0f8ea-66b0-418...|                     10|           true|         40|2021-07-31 00:03:58|         true|         120|            2625 FV|\n",
      "|862be702-4956-4e0...|      8-2329X|fc97a956-e4e5-40c...|                     27|          false|         65|2022-12-31 07:30:36|         true|          60|            8-2329X|\n",
      "|3968d8e1-2364-430...|      082 YIN|8dd353b0-6fb9-4c7...|                     15|          false|         60|2021-07-31 21:25:31|         true|          60|            082 YIN|\n",
      "|baf65c41-3b13-4e3...|     72-9517Q|d9a0f8ea-66b0-418...|                     10|          false|         60|2021-09-30 16:51:33|         true|          60|           72-9517Q|\n",
      "+--------------------+-------------+--------------------+-----------------------+---------------+-----------+-------------------+-------------+------------+-------------------+\n",
      "only showing top 20 rows\n",
      "\n"
     ]
    }
   ],
   "source": [
    "fee_df = spark.createDataFrame(ticket_fees)\n",
    "fee_df.show()\n",
    "\n",
    "st = st.withColumn(\n",
    "    'ticket_value',\n",
    "    when((col('school_zone_ind') == True) & (col('work_zone_ind') == True), 120)\n",
    "    .when((col('school_zone_ind') == True) | (col('work_zone_ind') == True), 60)\n",
    "    .otherwise(30)\n",
    ")\n",
    "\n",
    "st = st.withColumn('clean_license_plate', upper(trim(st['license_plate'])))\n",
    "st.show()"
   ]
  },
  {
   "cell_type": "markdown",
   "id": "cdb2e6fc-882e-46cd-becd-7303384ad8dd",
   "metadata": {},
   "source": [
    "## 1. Who are the Police Officers"
   ]
  },
  {
   "cell_type": "code",
   "execution_count": 45,
   "id": "05531b66-dff2-4552-92ea-e5df628df4b7",
   "metadata": {},
   "outputs": [
    {
     "name": "stdout",
     "output_type": "stream",
     "text": [
      "Our Top profession by volume appears to be Police Officer\n",
      "+--------------------+-----+\n",
      "|          profession|count|\n",
      "+--------------------+-----+\n",
      "|      Police Officer|   42|\n",
      "|      Engineer, site|   23|\n",
      "|Private music tea...|   22|\n",
      "|Engineer, agricul...|   22|\n",
      "|    Health physicist|   21|\n",
      "|        Risk analyst|   21|\n",
      "|                Copy|   21|\n",
      "|    Marine scientist|   20|\n",
      "|Teaching laborato...|   19|\n",
      "| Information officer|   19|\n",
      "|         Firefighter|   19|\n",
      "|    Sports therapist|   19|\n",
      "| Geologist, wellsite|   19|\n",
      "|Primary school te...|   19|\n",
      "|Planning and deve...|   18|\n",
      "|IT technical supp...|   18|\n",
      "|  Wellsite geologist|   18|\n",
      "|Engineer, control...|   18|\n",
      "|Chief Marketing O...|   18|\n",
      "|Health service ma...|   18|\n",
      "+--------------------+-----+\n",
      "only showing top 20 rows\n",
      "\n",
      "When we regex search for police we return 55 values\n"
     ]
    },
    {
     "data": {
      "text/plain": [
       "55"
      ]
     },
     "execution_count": 45,
     "metadata": {},
     "output_type": "execute_result"
    }
   ],
   "source": [
    "# Find our Officers in Person\n",
    "print('Our Top profession by volume appears to be Police Officer')\n",
    "p.groupBy('profession').agg(count('id').alias('count')).orderBy(desc('count')).show()\n",
    "print('When we regex search for police we return 55 values')\n",
    "p.filter(col(\"profession\").rlike(\"(?i)police\")).distinct().count()"
   ]
  },
  {
   "cell_type": "markdown",
   "id": "4736b66a-0a58-4ac7-8cc9-7cbd035825ec",
   "metadata": {},
   "source": [
    "### Big O v little o"
   ]
  },
  {
   "cell_type": "code",
   "execution_count": 50,
   "id": "7bb70001-3986-40ed-b0c7-441c790a3be0",
   "metadata": {},
   "outputs": [
    {
     "name": "stdout",
     "output_type": "stream",
     "text": [
      "+--------------+-----+\n",
      "|    profession|count|\n",
      "+--------------+-----+\n",
      "|Police Officer|   42|\n",
      "|Police officer|   13|\n",
      "+--------------+-----+\n",
      "\n"
     ]
    }
   ],
   "source": [
    "p.filter(col(\"profession\").rlike(\"(?i)police\")).groupBy('profession').agg(count('id').alias('count')).orderBy(desc('count')).show()"
   ]
  },
  {
   "cell_type": "code",
   "execution_count": 23,
   "id": "28957c71-bc02-4c4d-9f51-5b8c378cdc61",
   "metadata": {},
   "outputs": [
    {
     "name": "stdout",
     "output_type": "stream",
     "text": [
      "[Row(count(DISTINCT officer_id)=42)]\n",
      "We see 42 officers issuing speeding tickets\n",
      "+-----------------+\n",
      "|officer_full_name|\n",
      "+-----------------+\n",
      "|   Cynthia Suarez|\n",
      "|   Steven Harding|\n",
      "|    Scott Aguirre|\n",
      "|     Steven Rojas|\n",
      "|      Louis Drake|\n",
      "|     Brian Cannon|\n",
      "|  Crystal Goodwin|\n",
      "|  Kenneth Gardner|\n",
      "|      Ethan Lopez|\n",
      "|   Kimberly Smith|\n",
      "|    John Mcdaniel|\n",
      "|     Eric Marquez|\n",
      "|      Erica Brown|\n",
      "|    Angela Martin|\n",
      "|       Jaime Ward|\n",
      "|   David Peterson|\n",
      "|      Martin Dean|\n",
      "|      Kevin Perez|\n",
      "|    Michelle Gray|\n",
      "|        Anna Ryan|\n",
      "+-----------------+\n",
      "only showing top 20 rows\n",
      "\n"
     ]
    }
   ],
   "source": [
    "# Label our officers in speeding_tickets df\n",
    "print(st.agg(countDistinct('officer_id')).collect())\n",
    "\n",
    "joined_df = st.join(p, st.officer_id == p.id, 'left').select(\n",
    "    st['*'],\n",
    "    p['first_name'].alias('officer_first_name'),\n",
    "    p['last_name'].alias('officer_last_name'))\n",
    "\n",
    "\n",
    "officers = joined_df.withColumn('officer_full_name', concat_ws(' ', joined_df.officer_first_name, joined_df.officer_last_name))\n",
    "\n",
    "print(f\"We see {officers.select('officer_full_name').distinct().count()} officers issuing speeding tickets\")\n",
    "\n",
    "\n",
    "officers.select('officer_full_name').distinct().show()"
   ]
  },
  {
   "cell_type": "markdown",
   "id": "ec28bf80-bea5-4ae7-8fe3-ed71c547115b",
   "metadata": {},
   "source": [
    "## 2. Which officer handed out the most speeding tickets?"
   ]
  },
  {
   "cell_type": "code",
   "execution_count": 24,
   "id": "e658a992-bb45-4452-a0b3-5daa3d90af88",
   "metadata": {},
   "outputs": [
    {
     "name": "stdout",
     "output_type": "stream",
     "text": [
      "By volume we can see Barbara Cervantes issued the most tickets with 419\n"
     ]
    }
   ],
   "source": [
    "o_cnt = officers.groupby('officer_full_name').count().orderBy(desc('count'))\n",
    "top_o = o_cnt.first()\n",
    "print(f\"By volume we can see {top_o['officer_full_name']} issued the most tickets with {top_o['count']}\")"
   ]
  },
  {
   "cell_type": "markdown",
   "id": "faaa62fb-6e38-4a47-88e8-396779097578",
   "metadata": {},
   "source": [
    "## 3. What 3 months had the most speeding tickets?\n",
    "    - Month-to-month and Year-to-Year"
   ]
  },
  {
   "cell_type": "code",
   "execution_count": 25,
   "id": "ec88ec3e-2716-45f6-8d6a-cba171b745bb",
   "metadata": {},
   "outputs": [],
   "source": [
    "joined_df = joined_df.withColumn('year', year('ticket_time'))\n",
    "joined_df = joined_df.withColumn('year_month', date_format('ticket_time', 'yyyy-MM'))"
   ]
  },
  {
   "cell_type": "code",
   "execution_count": 26,
   "id": "fa596afc-6db4-4c12-b3a5-a08f9dd33d60",
   "metadata": {},
   "outputs": [
    {
     "name": "stdout",
     "output_type": "stream",
     "text": [
      "We can see a large jump in tickets being issued from 2022 to 2023\n",
      "+----+------------+\n",
      "|year|ticket_count|\n",
      "+----+------------+\n",
      "|2023|        6422|\n",
      "|2022|        4077|\n",
      "|2021|        4023|\n",
      "|2020|        1601|\n",
      "+----+------------+\n",
      "\n"
     ]
    }
   ],
   "source": [
    "yearly = joined_df.groupBy('year').agg(count('ticket_time').alias('ticket_count')).orderBy(desc('year'))\n",
    "monthly = joined_df.groupBy('year_month').agg(count('ticket_time').alias('ticket_count')).orderBy(desc('year_month'))\n",
    "\n",
    "print(\"We can see a large jump in tickets being issued from 2022 to 2023\")\n",
    "# Our data is only within our window 2020-2023\n",
    "yearly.show()"
   ]
  },
  {
   "cell_type": "code",
   "execution_count": 27,
   "id": "fe9d2e94-9937-4237-8acd-36ff8e484043",
   "metadata": {},
   "outputs": [
    {
     "name": "stdout",
     "output_type": "stream",
     "text": [
      "We see that the months of December in 21' to 23' was the Top 3 most ticketed months.\n"
     ]
    },
    {
     "data": {
      "text/html": [
       "<div>\n",
       "<style scoped>\n",
       "    .dataframe tbody tr th:only-of-type {\n",
       "        vertical-align: middle;\n",
       "    }\n",
       "\n",
       "    .dataframe tbody tr th {\n",
       "        vertical-align: top;\n",
       "    }\n",
       "\n",
       "    .dataframe thead th {\n",
       "        text-align: right;\n",
       "    }\n",
       "</style>\n",
       "<table border=\"1\" class=\"dataframe\">\n",
       "  <thead>\n",
       "    <tr style=\"text-align: right;\">\n",
       "      <th></th>\n",
       "      <th>year_month</th>\n",
       "      <th>ticket_count</th>\n",
       "    </tr>\n",
       "  </thead>\n",
       "  <tbody>\n",
       "    <tr>\n",
       "      <th>0</th>\n",
       "      <td>2023-12</td>\n",
       "      <td>1258</td>\n",
       "    </tr>\n",
       "    <tr>\n",
       "      <th>12</th>\n",
       "      <td>2022-12</td>\n",
       "      <td>824</td>\n",
       "    </tr>\n",
       "    <tr>\n",
       "      <th>24</th>\n",
       "      <td>2021-12</td>\n",
       "      <td>803</td>\n",
       "    </tr>\n",
       "  </tbody>\n",
       "</table>\n",
       "</div>"
      ],
      "text/plain": [
       "   year_month  ticket_count\n",
       "0     2023-12          1258\n",
       "12    2022-12           824\n",
       "24    2021-12           803"
      ]
     },
     "execution_count": 27,
     "metadata": {},
     "output_type": "execute_result"
    }
   ],
   "source": [
    "import seaborn as sns\n",
    "import pandas as pd\n",
    "import matplotlib.pyplot as plt\n",
    "\n",
    "monthly_pdf = monthly.toPandas()\n",
    "\n",
    "\n",
    "print(f\"We see that the months of December in 21' to 23' was the Top 3 most ticketed months.\")\n",
    "monthly_pdf.sort_values('ticket_count',ascending=False).head(3)"
   ]
  },
  {
   "cell_type": "markdown",
   "id": "6fb23927-d974-43d1-9c82-112dd853281b",
   "metadata": {},
   "source": [
    "### Trending Ticket Volumes"
   ]
  },
  {
   "cell_type": "code",
   "execution_count": 28,
   "id": "0fb9698c-58bc-47a5-b007-8a4d6bc68770",
   "metadata": {},
   "outputs": [
    {
     "name": "stdout",
     "output_type": "stream",
     "text": [
      "We can see spikes around the new year(December-January) and in October of each year\n"
     ]
    },
    {
     "data": {
      "image/png": "[encoded data removed]",
      "text/plain": [
       "<Figure size 1400x700 with 1 Axes>"
      ]
     },
     "metadata": {},
     "output_type": "display_data"
    }
   ],
   "source": [
    "print(f\"We can see spikes around the new year(December-January) and in October of each year\")\n",
    "\n",
    "\n",
    "plt.figure(figsize=(14, 7))\n",
    "plt = sns.lineplot(data=monthly_pdf, x='year_month', y='ticket_count', marker='o')\n",
    "plt.tick_params(axis='x', rotation=90)"
   ]
  },
  {
   "cell_type": "markdown",
   "id": "3048a75e-2dfa-4b4e-b91c-3e0bcae79408",
   "metadata": {},
   "source": [
    "## 4. Top 10 people who have spent the most on speeding tickets"
   ]
  },
  {
   "cell_type": "code",
   "execution_count": 29,
   "id": "61b1aa5e-d838-4eff-b4c1-29dd9a04b8df",
   "metadata": {},
   "outputs": [
    {
     "name": "stdout",
     "output_type": "stream",
     "text": [
      "42\n",
      "7123\n"
     ]
    }
   ],
   "source": [
    "# Quick and dirty for speeding_tickets/officer labeling didnt pay off :)\n",
    "# Send the flag to the people\n",
    "o_ids = st.select('officer_id').distinct()\n",
    "\n",
    "p_cop_joined_df = p.join(o_ids, p.id == o_ids.officer_id, 'left').select(\n",
    "    p['*'],\n",
    "    o_ids['officer_id'])\n",
    "\n",
    "# 42 officers labeled\n",
    "print(p_cop_joined_df.filter(p_cop_joined_df.officer_id.isNotNull()).count())\n",
    "\n",
    "# Checksum for the total people\n",
    "print(p_cop_joined_df.count())"
   ]
  },
  {
   "cell_type": "code",
   "execution_count": 30,
   "id": "5ce499c6-f5c6-45d2-9ffb-c304baee0a84",
   "metadata": {},
   "outputs": [
    {
     "data": {
      "text/plain": [
       "16123"
      ]
     },
     "execution_count": 30,
     "metadata": {},
     "output_type": "execute_result"
    }
   ],
   "source": [
    "# Combine with automobiles for totals by people\n",
    "# Check if id in speeding_ticket is PK\n",
    "st.select('id').count()\n",
    "# We must join on license plate"
   ]
  },
  {
   "cell_type": "code",
   "execution_count": 56,
   "id": "d4089660-9dd6-42aa-a769-fa80c44eaaf7",
   "metadata": {},
   "outputs": [],
   "source": [
    "# Skinny df for calculations\n",
    "master_df = p_cop_joined_df.join(a, p_cop_joined_df.id == a.person_id, 'left').select(\n",
    "    p_cop_joined_df['first_name'],\n",
    "    p_cop_joined_df['last_name'],\n",
    "    p_cop_joined_df['officer_id'],\n",
    "    p_cop_joined_df['profession'],\n",
    "    a['license_plate'])\n",
    "\n",
    "master_df = master_df.withColumn('full_name', concat_ws(' ', master_df.first_name, master_df.last_name))\n",
    "master_df = master_df.withColumn('clean_license_plate', upper(trim(master_df['license_plate'])))\n",
    "\n",
    "master_df = master_df.select('officer_id','full_name','clean_license_plate','profession')"
   ]
  },
  {
   "cell_type": "code",
   "execution_count": 57,
   "id": "397fdb30-9c37-4314-b87a-863c0d429de5",
   "metadata": {},
   "outputs": [
    {
     "name": "stdout",
     "output_type": "stream",
     "text": [
      "+----------+-----------------+-------------------+--------------------+\n",
      "|officer_id|        full_name|clean_license_plate|          profession|\n",
      "+----------+-----------------+-------------------+--------------------+\n",
      "|      NULL|   Kaitlyn Rhodes|            927-GSN| Call centre manager|\n",
      "|      NULL|   Kaitlyn Rhodes|            57-NC57| Call centre manager|\n",
      "|      NULL|Jeffrey Hernandez|           DW 09395|Primary school te...|\n",
      "|      NULL|        Ann Gates|            ZBX-926|Teacher, English ...|\n",
      "|      NULL|        Ann Gates|            83Y T30|Teacher, English ...|\n",
      "|      NULL|   Edward Roberts|            407-QXA| Broadcast presenter|\n",
      "|      NULL|  Katherine Smith|           3M EK392|Sports administrator|\n",
      "|      NULL|   James Robinson|            FNS3743|Private music tea...|\n",
      "|      NULL|    Matthew Terry|            CU 7241| Clinical biochemist|\n",
      "|      NULL|    Jessica Allen|            QGS 230|Nature conservati...|\n",
      "|      NULL|    Jessica Allen|            321-SUI|Nature conservati...|\n",
      "|      NULL|    Jessica Allen|           PVE-8584|Nature conservati...|\n",
      "|      NULL|    Joy Rodriguez|            7ID4369|       Archaeologist|\n",
      "|      NULL|      Tammy Boone|            HEO 894|        Sports coach|\n",
      "|      NULL|      Tammy Boone|            6-82923|        Sports coach|\n",
      "|      NULL|    Kaitlin Simon|           832 9110|Administrator, ed...|\n",
      "|      NULL|     David Zuniga|            92M O93|Armed forces oper...|\n",
      "|      NULL|     David Zuniga|            B43 5FF|Armed forces oper...|\n",
      "|      NULL|     Lisa Patrick|           TBH-3887|       Hotel manager|\n",
      "|      NULL|      Becky Clark|           85-0641J|       Herpetologist|\n",
      "+----------+-----------------+-------------------+--------------------+\n",
      "only showing top 20 rows\n",
      "\n"
     ]
    }
   ],
   "source": [
    "master_df.show()"
   ]
  },
  {
   "cell_type": "code",
   "execution_count": 58,
   "id": "f698ca95-3ea5-4723-ad87-0443e80b8619",
   "metadata": {},
   "outputs": [],
   "source": [
    "#Skinny Tickets\n",
    "st_skinny = st.select('clean_license_plate','ticket_value')"
   ]
  },
  {
   "cell_type": "code",
   "execution_count": 59,
   "id": "149a16a7-2427-4eea-991f-77f3e522beba",
   "metadata": {},
   "outputs": [
    {
     "name": "stdout",
     "output_type": "stream",
     "text": [
      "+----------+-----------------+-------------------+--------------------+-------------------+------------+\n",
      "|officer_id|        full_name|clean_license_plate|          profession|clean_license_plate|ticket_value|\n",
      "+----------+-----------------+-------------------+--------------------+-------------------+------------+\n",
      "|      NULL|   Kaitlyn Rhodes|            927-GSN| Call centre manager|            927-GSN|          30|\n",
      "|      NULL|   Kaitlyn Rhodes|            57-NC57| Call centre manager|            57-NC57|          30|\n",
      "|      NULL|Jeffrey Hernandez|           DW 09395|Primary school te...|           DW 09395|          60|\n",
      "|      NULL|Jeffrey Hernandez|           DW 09395|Primary school te...|           DW 09395|          60|\n",
      "|      NULL|Jeffrey Hernandez|           DW 09395|Primary school te...|           DW 09395|          60|\n",
      "|      NULL|        Ann Gates|            ZBX-926|Teacher, English ...|            ZBX-926|          30|\n",
      "|      NULL|        Ann Gates|            83Y T30|Teacher, English ...|            83Y T30|         120|\n",
      "|      NULL|   Edward Roberts|            407-QXA| Broadcast presenter|            407-QXA|          60|\n",
      "|      NULL|   Edward Roberts|            407-QXA| Broadcast presenter|            407-QXA|          30|\n",
      "|      NULL|   Edward Roberts|            407-QXA| Broadcast presenter|            407-QXA|          30|\n",
      "|      NULL|   Edward Roberts|            407-QXA| Broadcast presenter|            407-QXA|          30|\n",
      "|      NULL|  Katherine Smith|           3M EK392|Sports administrator|           3M EK392|          30|\n",
      "|      NULL|  Katherine Smith|           3M EK392|Sports administrator|           3M EK392|          60|\n",
      "|      NULL|  Katherine Smith|           3M EK392|Sports administrator|           3M EK392|          30|\n",
      "|      NULL|   James Robinson|            FNS3743|Private music tea...|            FNS3743|          30|\n",
      "|      NULL|    Matthew Terry|            CU 7241| Clinical biochemist|            CU 7241|          60|\n",
      "|      NULL|    Matthew Terry|            CU 7241| Clinical biochemist|            CU 7241|         120|\n",
      "|      NULL|    Jessica Allen|            QGS 230|Nature conservati...|            QGS 230|          60|\n",
      "|      NULL|    Jessica Allen|            321-SUI|Nature conservati...|            321-SUI|          30|\n",
      "|      NULL|    Jessica Allen|            321-SUI|Nature conservati...|            321-SUI|         120|\n",
      "+----------+-----------------+-------------------+--------------------+-------------------+------------+\n",
      "only showing top 20 rows\n",
      "\n"
     ]
    }
   ],
   "source": [
    "master_df = master_df.join(st_skinny, master_df.clean_license_plate == st_skinny.clean_license_plate, 'left').select(\n",
    "    master_df['*'],\n",
    "    st_skinny['*'])\n",
    "\n",
    "master_df.show()"
   ]
  },
  {
   "cell_type": "code",
   "execution_count": 60,
   "id": "68d449a1-6ef3-492e-bb51-6ae65debeb4b",
   "metadata": {},
   "outputs": [
    {
     "name": "stdout",
     "output_type": "stream",
     "text": [
      "We can see our Top 10 Ticketed Persons by Total Ticket Valuation\n",
      "+-----------------+--------------------+\n",
      "|        full_name|sum_of_ticket_values|\n",
      "+-----------------+--------------------+\n",
      "|    Robert Holmes|                 930|\n",
      "| Elizabeth Zuniga|                 750|\n",
      "|      Dylan Davis|                 720|\n",
      "|    Michael Jones|                 720|\n",
      "| Rebecca Mcdaniel|                 720|\n",
      "|   William Morgan|                 690|\n",
      "|   James Anderson|                 690|\n",
      "|     Ashley Smith|                 690|\n",
      "|      David Stone|                 690|\n",
      "|Alexandra Jackson|                 660|\n",
      "+-----------------+--------------------+\n",
      "only showing top 10 rows\n",
      "\n"
     ]
    }
   ],
   "source": [
    "print(f\"We can see our Top 10 Ticketed Persons by Total Ticket Valuation\")\n",
    "master_df.groupBy('full_name').agg(F.sum('ticket_value').alias('sum_of_ticket_values')).orderBy(desc('sum_of_ticket_values')).show(10)"
   ]
  },
  {
   "cell_type": "markdown",
   "id": "6395c517-f317-4407-b342-ef55ea47b61e",
   "metadata": {},
   "source": [
    "## ?2b. Which officer was handed the most speeding tickets?"
   ]
  },
  {
   "cell_type": "code",
   "execution_count": 61,
   "id": "49849573-3486-4728-aa3a-92073dcf9c25",
   "metadata": {},
   "outputs": [
    {
     "name": "stdout",
     "output_type": "stream",
     "text": [
      "We can see our Top 10 Ticketed Officers by Total Ticket Valuation\n",
      "+-----------------+--------------------+\n",
      "|        full_name|sum_of_ticket_values|\n",
      "+-----------------+--------------------+\n",
      "|  Courtney Riddle|                 360|\n",
      "|  Richard Mendoza|                 330|\n",
      "|   Steven Harding|                 240|\n",
      "|    Rebecca Crane|                 240|\n",
      "|  Shaffer Wallace|                 240|\n",
      "|       Mary Terry|                 210|\n",
      "|    Michelle Gray|                 210|\n",
      "|       Chad Leach|                 210|\n",
      "|Barbara Cervantes|                 210|\n",
      "|    Michael Perez|                 210|\n",
      "+-----------------+--------------------+\n",
      "only showing top 10 rows\n",
      "\n"
     ]
    }
   ],
   "source": [
    "print(f\"We can see our Top 10 Ticketed Officers by Total Ticket Valuation\")\n",
    "\n",
    "o_master_df = master_df.filter(col(\"profession\").rlike(\"(?i)police\"))\n",
    "o_master_df.groupBy('full_name').agg(F.sum('ticket_value').alias('sum_of_ticket_values')).orderBy(desc('sum_of_ticket_values')).show(10)"
   ]
  }
 ],
 "metadata": {
  "kernelspec": {
   "display_name": "Python 3 (ipykernel)",
   "language": "python",
   "name": "python3"
  },
  "language_info": {
   "codemirror_mode": {
    "name": "ipython",
    "version": 3
   },
   "file_extension": ".py",
   "mimetype": "text/x-python",
   "name": "python",
   "nbconvert_exporter": "python",
   "pygments_lexer": "ipython3",
   "version": "3.11.6"
  }
 },
 "nbformat": 4,
 "nbformat_minor": 5
}
